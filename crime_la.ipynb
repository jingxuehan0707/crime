{
 "cells": [
  {
   "cell_type": "code",
   "execution_count": 1,
   "metadata": {},
   "outputs": [],
   "source": [
    "import pandas as pd\n",
    "import geopandas as gpd"
   ]
  },
  {
   "cell_type": "code",
   "execution_count": 2,
   "metadata": {},
   "outputs": [],
   "source": [
    "# File paths\n",
    "census_tract_shp = 'la_census_tract/LA_City_2020_Census_Tracts_.shp'\n",
    "crime_csv = 'crime_data/crime_la_2020_2024.csv'\n",
    "\n",
    "# Generate list of years from 2001 to 2024\n",
    "years = list(range(2010, 2024))"
   ]
  },
  {
   "cell_type": "code",
   "execution_count": 3,
   "metadata": {},
   "outputs": [],
   "source": [
    "# Read in the census tract shapefile\n",
    "tracts_gdf = gpd.read_file(census_tract_shp)\n",
    "tracts_gdf = tracts_gdf.to_crs(epsg=4326)\n",
    "tracts_gdf = tracts_gdf[['geometry', 'CT20']]\n",
    "\n",
    "# Read in the crime points data, this is very large dataset\n",
    "crime_df = pd.read_csv(crime_csv)"
   ]
  },
  {
   "cell_type": "code",
   "execution_count": 4,
   "metadata": {},
   "outputs": [
    {
     "name": "stderr",
     "output_type": "stream",
     "text": [
      "/var/folders/6g/xqgvnv4s1h95kfz0bd14h3_h0000gn/T/ipykernel_68276/3146834728.py:2: UserWarning: Could not infer format, so each element will be parsed individually, falling back to `dateutil`. To ensure parsing is consistent and as-expected, please specify a format.\n",
      "  crime_df['Date Rptd'] = pd.to_datetime(crime_df['Date Rptd'])\n"
     ]
    }
   ],
   "source": [
    "# Convert the date to a datetime object\n",
    "crime_df['Date Rptd'] = pd.to_datetime(crime_df['Date Rptd'])\n",
    "crime_df['Year'] = crime_df['Date Rptd'].dt.year"
   ]
  },
  {
   "cell_type": "code",
   "execution_count": 5,
   "metadata": {},
   "outputs": [],
   "source": [
    "# Define funtion to aggreate crime points counts by census tract, by type of crime\n",
    "def aggregate_points(points_gdf, geometry_gdf):\n",
    "    # Spatial join the points to the census tracts\n",
    "    points_gdf = gpd.sjoin(points_gdf, geometry_gdf, how='inner', predicate='within')\n",
    "    # Group by the census tract and\n",
    "    points_gdf = points_gdf.groupby(['CT20', 'Crm Cd']).size().reset_index(name='count')\n",
    "    return points_gdf\n",
    "    "
   ]
  },
  {
   "cell_type": "code",
   "execution_count": 6,
   "metadata": {},
   "outputs": [],
   "source": [
    "# Create an empty dataframe to store the combined results\n",
    "combined_results = pd.DataFrame()\n",
    "\n",
    "# Loop through each year\n",
    "for year in years:\n",
    "    # Filter the crime data for the current year\n",
    "    crime_df_year = crime_df[crime_df['Year'] == year]\n",
    "    \n",
    "    # Convert the filtered crime data to a GeoDataFrame\n",
    "    crime_gdf_year = gpd.GeoDataFrame(crime_df_year, geometry=gpd.points_from_xy(crime_df_year.LON, crime_df_year.LAT))\n",
    "    crime_gdf_year = crime_gdf_year.set_crs(epsg=4326)\n",
    "    \n",
    "    # Aggregate the crime points by census tract\n",
    "    aggregated_points = aggregate_points(crime_gdf_year, tracts_gdf)\n",
    "    \n",
    "    # Add the year to the aggregated points dataframe\n",
    "    aggregated_points['Year'] = year\n",
    "    \n",
    "    # Append the results to the combined dataframe\n",
    "    combined_results = pd.concat([combined_results, aggregated_points], ignore_index=True)"
   ]
  },
  {
   "cell_type": "code",
   "execution_count": 7,
   "metadata": {},
   "outputs": [
    {
     "data": {
      "text/html": [
       "<div>\n",
       "<style scoped>\n",
       "    .dataframe tbody tr th:only-of-type {\n",
       "        vertical-align: middle;\n",
       "    }\n",
       "\n",
       "    .dataframe tbody tr th {\n",
       "        vertical-align: top;\n",
       "    }\n",
       "\n",
       "    .dataframe thead th {\n",
       "        text-align: right;\n",
       "    }\n",
       "</style>\n",
       "<table border=\"1\" class=\"dataframe\">\n",
       "  <thead>\n",
       "    <tr style=\"text-align: right;\">\n",
       "      <th></th>\n",
       "      <th>geoid10</th>\n",
       "      <th>Crm Cd</th>\n",
       "      <th>count</th>\n",
       "      <th>Year</th>\n",
       "    </tr>\n",
       "  </thead>\n",
       "  <tbody>\n",
       "    <tr>\n",
       "      <th>49958</th>\n",
       "      <td>06037191302</td>\n",
       "      <td>121</td>\n",
       "      <td>1</td>\n",
       "      <td>2021</td>\n",
       "    </tr>\n",
       "    <tr>\n",
       "      <th>35350</th>\n",
       "      <td>06037101122</td>\n",
       "      <td>420</td>\n",
       "      <td>3</td>\n",
       "      <td>2021</td>\n",
       "    </tr>\n",
       "    <tr>\n",
       "      <th>65166</th>\n",
       "      <td>06037262200</td>\n",
       "      <td>745</td>\n",
       "      <td>5</td>\n",
       "      <td>2021</td>\n",
       "    </tr>\n",
       "    <tr>\n",
       "      <th>142207</th>\n",
       "      <td>06037274100</td>\n",
       "      <td>210</td>\n",
       "      <td>6</td>\n",
       "      <td>2023</td>\n",
       "    </tr>\n",
       "    <tr>\n",
       "      <th>9934</th>\n",
       "      <td>06037135204</td>\n",
       "      <td>745</td>\n",
       "      <td>1</td>\n",
       "      <td>2020</td>\n",
       "    </tr>\n",
       "  </tbody>\n",
       "</table>\n",
       "</div>"
      ],
      "text/plain": [
       "            geoid10  Crm Cd  count  Year\n",
       "49958   06037191302     121      1  2021\n",
       "35350   06037101122     420      3  2021\n",
       "65166   06037262200     745      5  2021\n",
       "142207  06037274100     210      6  2023\n",
       "9934    06037135204     745      1  2020"
      ]
     },
     "execution_count": 7,
     "metadata": {},
     "output_type": "execute_result"
    }
   ],
   "source": [
    "# Create a 'geoid10' columns. goeid10 = '06037' + CT20\n",
    "combined_results['geoid10'] = '06037' + combined_results['CT20'].astype(str)\n",
    "combined_results = combined_results[['geoid10', 'Crm Cd', 'count', 'Year']]\n",
    "\n",
    "# Replace the comma in 'Crm Cd Desc' with ' -'\n",
    "# combined_results['Crm Cd Desc'] = combined_results['Crm Cd Desc'].str.replace(',', '-')\n",
    "\n",
    "# Save the combined results to a CSV file\n",
    "combined_results.to_csv('crime_data/crime_la_2020_2024_by_tract_type.csv', index=False)\n",
    "\n",
    "# Randomly sample 10,000 rows from the combined results, and display the first 5 rows.\n",
    "combined_results.sample(10000).head()"
   ]
  }
 ],
 "metadata": {
  "kernelspec": {
   "display_name": "geo",
   "language": "python",
   "name": "python3"
  },
  "language_info": {
   "codemirror_mode": {
    "name": "ipython",
    "version": 3
   },
   "file_extension": ".py",
   "mimetype": "text/x-python",
   "name": "python",
   "nbconvert_exporter": "python",
   "pygments_lexer": "ipython3",
   "version": "3.12.7"
  }
 },
 "nbformat": 4,
 "nbformat_minor": 2
}
